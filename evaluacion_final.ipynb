{
 "cells": [
  {
   "cell_type": "code",
   "execution_count": null,
   "metadata": {},
   "outputs": [],
   "source": [
    "# Creación de clase Tienda Online\n",
    "\n",
    "class TiendaOnline:\n",
    "    def __init__(self):\n",
    "        self.inventario = inventario =[]\n",
    "        ventas_totales = 0 \n",
    "\n",
    "    def agregar_producto(self, nombre, precio, cantidad): #método para agregar un producto nuevo\n",
    "        if nombre in self.inventario: #primero verificamos si el producto existe \n",
    "            self.inventario[nombre] = [cantidad] #si ya existe, solo nos interesa actualizar la cantidad \n",
    "            print (f\"la cantidad de {nombre} ha sido actualizada a {cantidad}\") \n",
    "\n",
    "        else:\n",
    "            if nombre not in self.inventario: #si el producto no existe en el inventario, lo agregamos \n",
    "                self.inventario[nombre] = [nombre, precio, cantidad]\n",
    "                print (f\"un nuevo producto llamado artículo ha sido agregado al inventario: {nombre, {precio}, {cantidad}}\")\n",
    "\n",
    "\n"
   ]
  },
  {
   "cell_type": "code",
   "execution_count": null,
   "metadata": {},
   "outputs": [
    {
     "name": "stdout",
     "output_type": "stream",
     "text": [
      "[]\n"
     ]
    }
   ],
   "source": [
    "#corroboro impresion de de lista vacía\n",
    "\n",
    "prueba_tienda = TiendaOnline()\n",
    "print (prueba_tienda.inventario)\n"
   ]
  }
 ],
 "metadata": {
  "kernelspec": {
   "display_name": "Python 3",
   "language": "python",
   "name": "python3"
  },
  "language_info": {
   "codemirror_mode": {
    "name": "ipython",
    "version": 3
   },
   "file_extension": ".py",
   "mimetype": "text/x-python",
   "name": "python",
   "nbconvert_exporter": "python",
   "pygments_lexer": "ipython3",
   "version": "3.9.6"
  }
 },
 "nbformat": 4,
 "nbformat_minor": 2
}
