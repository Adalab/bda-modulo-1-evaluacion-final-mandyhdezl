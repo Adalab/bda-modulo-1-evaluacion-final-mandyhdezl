{
 "cells": [
  {
   "cell_type": "code",
   "execution_count": null,
   "metadata": {},
   "outputs": [],
   "source": [
    "# Creación de clase Tienda Online\n",
    "\n",
    "class TiendaOnline:\n",
    "    def __init__(self):\n",
    "        self.inventario = inventario =[{}]\n",
    "        ventas_totales = 0 \n",
    "\n",
    "    def agregar_producto(self, nombre, precio, cantidad): #método 1: para agregar un producto nuevo\n",
    "        nuevo_producto = {\"nombre\" : nombre, \"precio\": precio, \"cantidad\" : cantidad}\n",
    "            \n",
    "        for producto in self.inventario:\n",
    "            if producto == True: #primero verificamos si el producto existe \n",
    "             self.inventario.insert (nuevo_producto (2, )) #si ya existe, solo nos interesa actualizar la cantidad \n",
    "             print (f\"la cantidad de {nombre} ha sido actualizada a {cantidad}\") \n",
    "\n",
    "            else:\n",
    "             if nombre not in self.inventario: #si el producto no existe en el inventario, lo agregamos \n",
    "                self.inventario.append(nuevo_producto)\n",
    "                print (f\"un nuevo producto llamado {nuevo_producto} ha sido agregado al inventario\")\n",
    "\n",
    "    def ver_inventario(self):\n",
    "        iventario_actual = {}\n",
    "        for nombre in self.inventario.items():\n",
    "            inventario_actual = {\"nombre\" : nombre, \"precio\" : precio, \"cantidad\" : cantidad}\n",
    "            print (inventario_actual)\n",
    "\n",
    "\n",
    "\n"
   ]
  },
  {
   "cell_type": "code",
   "execution_count": 96,
   "metadata": {},
   "outputs": [
    {
     "name": "stdout",
     "output_type": "stream",
     "text": [
      "[{}]\n"
     ]
    }
   ],
   "source": [
    "#corroboro impresion de de lista vacía\n",
    "\n",
    "prueba_tienda = TiendaOnline()\n",
    "print (prueba_tienda.inventario)\n"
   ]
  },
  {
   "cell_type": "code",
   "execution_count": 97,
   "metadata": {},
   "outputs": [],
   "source": [
    "# corroboro método 1\n",
    "prueba_tienda.agregar_producto(\"pera\", 3, 2)\n"
   ]
  },
  {
   "cell_type": "code",
   "execution_count": 98,
   "metadata": {},
   "outputs": [],
   "source": [
    "prueba_tienda.agregar_producto(\"pera\", 3, 7)"
   ]
  },
  {
   "cell_type": "code",
   "execution_count": 99,
   "metadata": {},
   "outputs": [
    {
     "name": "stdout",
     "output_type": "stream",
     "text": [
      "<__main__.TiendaOnline object at 0x110ad00a0>\n"
     ]
    }
   ],
   "source": [
    "print (prueba_tienda)"
   ]
  },
  {
   "cell_type": "code",
   "execution_count": 100,
   "metadata": {},
   "outputs": [],
   "source": [
    "class TiendaOnline3:\n",
    "    def __init__(self):\n",
    "        self.inventario = []  # Lista para almacenar productos\n",
    "\n",
    "    def agregar_producto(self, nombre, precio, cantidad):\n",
    "        # Buscar si el producto ya existe en el inventario\n",
    "        for producto in self.inventario:\n",
    "            if producto[\"nombre\"] == nombre:\n",
    "                producto[\"cantidad\"] += cantidad  # Si existe, actualiza la cantidad\n",
    "                return  \n",
    "        \n",
    "        # Si no existe, agregarlo como un nuevo producto\n",
    "        nuevo_producto = {\"nombre\": nombre, \"precio\": precio, \"cantidad\": cantidad}\n",
    "        self.inventario.append(nuevo_producto)\n"
   ]
  },
  {
   "cell_type": "code",
   "execution_count": 101,
   "metadata": {},
   "outputs": [],
   "source": [
    "prueba_tienda_1 = TiendaOnline3()\n"
   ]
  },
  {
   "cell_type": "code",
   "execution_count": 102,
   "metadata": {},
   "outputs": [],
   "source": [
    "prueba_tienda_1.agregar_producto(\"carbon\", 4, 6)"
   ]
  }
 ],
 "metadata": {
  "kernelspec": {
   "display_name": "Python 3",
   "language": "python",
   "name": "python3"
  },
  "language_info": {
   "codemirror_mode": {
    "name": "ipython",
    "version": 3
   },
   "file_extension": ".py",
   "mimetype": "text/x-python",
   "name": "python",
   "nbconvert_exporter": "python",
   "pygments_lexer": "ipython3",
   "version": "3.9.6"
  }
 },
 "nbformat": 4,
 "nbformat_minor": 2
}
