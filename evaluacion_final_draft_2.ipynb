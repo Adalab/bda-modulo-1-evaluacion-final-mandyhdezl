{
 "cells": [
  {
   "cell_type": "code",
   "execution_count": 54,
   "metadata": {},
   "outputs": [],
   "source": [
    "class TiendaOnline3:\n",
    "    def __init__(self):\n",
    "        self.inventario = []  # Lista para almacenar productos\n",
    "\n",
    "    def agregar_producto(self, nombre, precio, cantidad):\n",
    "        # Buscar si el producto ya existe en el inventario\n",
    "        for producto in self.inventario:\n",
    "            if producto[\"nombre\"] == nombre:\n",
    "                producto[\"cantidad\"] += cantidad  # Si existe, actualiza la cantidad\n",
    "                return f\"la cantidad de {nombre} ha sido actualizada a {cantidad}\"\n",
    "        \n",
    "        # Si no existe, agregarlo como un nuevo producto\n",
    "        nuevo_producto = {\"nombre\": nombre, \"precio\": precio, \"cantidad\": cantidad}\n",
    "        self.inventario.append(nuevo_producto)\n",
    "        print (f\"se ha agregado el siguiente prducto: {nuevo_producto}\")\n",
    "\n",
    "    def ver_inventario(self): #metodo 2: mostrar inventario \n",
    "        for producto in self.inventario: \n",
    "            return f\"este es tu inventaro de productos: {self.inventario}\"\n",
    "        \n",
    "    def buscar_productos(self, nombre): #método 3: buscar producto\n",
    "        for producto in self.inventario:\n",
    "            if producto [\"nombre\"] == nombre:\n",
    "                return f\"el producto que buscas es Nombre: {nombre}\"\n",
    "            \n",
    "    def actualizar_stock(self, nombre, cantidad): #método 4: Actualizar stock por nombre y cantidad\n",
    "        for producto in self.inventario:\n",
    "            if producto[\"nombre\"] in nombre:\n",
    "                producto[\"cantidad\"] += cantidad\n",
    "                print (f\"la cantidad del producto {nombre} ha sido actualizada a {cantidad}\")\n",
    "\n",
    "            else:\n",
    "                print (\"el producto que intentas actualizar no se encuentra en el inventario. debes agregarlo primero\")\n",
    "\n",
    "    def eliminar_producto(self, nombre): #metodo 5: Elimina un producto del inventario por nombre\n",
    "        for producto in self.inventario:\n",
    "            if producto[\"nombre\"] in nombre:\n",
    "                self.inventario.remove(producto)\n",
    "                print (f\"el producto {nombre} se ha eliminado correctamente\")\n",
    "            \n",
    "            else:\n",
    "                if producto[\"nombre\"] not in self.inventario:\n",
    "                 print (\"el producto que buscas no está en el inventario\")\n",
    "\n",
    "    \n",
    "\n",
    "                "
   ]
  },
  {
   "cell_type": "code",
   "execution_count": 55,
   "metadata": {},
   "outputs": [],
   "source": [
    "mi_tienda = TiendaOnline3()"
   ]
  },
  {
   "cell_type": "code",
   "execution_count": 56,
   "metadata": {},
   "outputs": [
    {
     "name": "stdout",
     "output_type": "stream",
     "text": [
      "se ha agregado el siguiente prducto: {'nombre': 'tomate', 'precio': 3, 'cantidad': 8}\n"
     ]
    }
   ],
   "source": [
    "mi_tienda.agregar_producto(\"tomate\", 3, 8)"
   ]
  },
  {
   "cell_type": "code",
   "execution_count": 57,
   "metadata": {},
   "outputs": [
    {
     "data": {
      "text/plain": [
       "{'inventario': [{'nombre': 'tomate', 'precio': 3, 'cantidad': 8}]}"
      ]
     },
     "execution_count": 57,
     "metadata": {},
     "output_type": "execute_result"
    }
   ],
   "source": [
    "mi_tienda.__dict__"
   ]
  },
  {
   "cell_type": "code",
   "execution_count": 58,
   "metadata": {},
   "outputs": [
    {
     "data": {
      "text/plain": [
       "('la cantidad de tomate ha sido actualizada a 10',\n",
       " ('zanahoria', 2, 16),\n",
       " ('pepino', 4, 10))"
      ]
     },
     "execution_count": 58,
     "metadata": {},
     "output_type": "execute_result"
    }
   ],
   "source": [
    "mi_tienda.agregar_producto(\"tomate\", 3, 10), (\"zanahoria\", 2, 16), (\"pepino\", 4, 10)"
   ]
  },
  {
   "cell_type": "code",
   "execution_count": 59,
   "metadata": {},
   "outputs": [
    {
     "data": {
      "text/plain": [
       "\"este es tu inventaro de productos: [{'nombre': 'tomate', 'precio': 3, 'cantidad': 18}]\""
      ]
     },
     "execution_count": 59,
     "metadata": {},
     "output_type": "execute_result"
    }
   ],
   "source": [
    "mi_tienda.ver_inventario()"
   ]
  },
  {
   "cell_type": "code",
   "execution_count": 60,
   "metadata": {},
   "outputs": [
    {
     "name": "stdout",
     "output_type": "stream",
     "text": [
      "el producto que intentas actualizar no se encuentra en el inventario. debes agregarlo primero\n"
     ]
    }
   ],
   "source": [
    "mi_tienda.actualizar_stock(\"zapato\", 9)"
   ]
  },
  {
   "cell_type": "code",
   "execution_count": 61,
   "metadata": {},
   "outputs": [
    {
     "name": "stdout",
     "output_type": "stream",
     "text": [
      "el producto que buscas no está en el inventario\n"
     ]
    }
   ],
   "source": [
    "mi_tienda.eliminar_producto(\"zapato\")"
   ]
  }
 ],
 "metadata": {
  "kernelspec": {
   "display_name": "Python 3",
   "language": "python",
   "name": "python3"
  },
  "language_info": {
   "codemirror_mode": {
    "name": "ipython",
    "version": 3
   },
   "file_extension": ".py",
   "mimetype": "text/x-python",
   "name": "python",
   "nbconvert_exporter": "python",
   "pygments_lexer": "ipython3",
   "version": "3.9.6"
  }
 },
 "nbformat": 4,
 "nbformat_minor": 2
}
