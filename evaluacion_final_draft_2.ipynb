{
 "cells": [
  {
   "cell_type": "code",
   "execution_count": 207,
   "metadata": {},
   "outputs": [],
   "source": [
    "class TiendaOnline3:\n",
    "    def __init__(self):\n",
    "        self.inventario = []  # Lista para almacenar productos\n",
    "        ventas_totales = 0\n",
    "\n",
    "    def agregar_producto(self, nombre, precio, cantidad):\n",
    "        # Buscar si el producto ya existe en el inventario\n",
    "        for producto in self.inventario:\n",
    "            if producto[\"nombre\"] == nombre:\n",
    "                producto[\"cantidad\"] += cantidad  # Si existe, actualiza la cantidad\n",
    "                return f\"la cantidad de {nombre} ha sido actualizada a {cantidad}\"\n",
    "        \n",
    "        # Si no existe, agregarlo como un nuevo producto\n",
    "        nuevo_producto = {\"nombre\": nombre, \"precio\": precio, \"cantidad\": cantidad}\n",
    "        self.inventario.append(nuevo_producto)\n",
    "        print (f\"se ha agregado el siguiente prducto: {nuevo_producto}\")\n",
    "\n",
    "    def ver_inventario(self): #metodo 2: mostrar inventario \n",
    "        for producto in self.inventario: \n",
    "            print (f\"Nombre: {producto['nombre']}, Precio: ${producto['precio']}, Cantidad: {producto['cantidad']}\")\n",
    "        \n",
    "        if not self.inventario:\n",
    "            print (\"el inventario está vacío\")\n",
    "\n",
    "    def buscar_productos(self, nombre): #método 3: buscar producto\n",
    "        for producto in self.inventario:\n",
    "            if producto [\"nombre\"] == nombre:\n",
    "              print(f\"El producto que buscas es: Nombre: {producto['nombre']}, Precio: ${producto['precio']}, Cantidad: {producto['cantidad']}\")\n",
    "            else:\n",
    "                print (\"producto no encontrado\")\n",
    "            \n",
    "    def actualizar_stock(self, nombre, cantidad): #método 4: Actualiza stock por nombre y cantidad.\n",
    "        for producto in self.inventario:\n",
    "            if producto[\"nombre\"] in nombre:\n",
    "                producto[\"cantidad\"] += cantidad\n",
    "                print (f\"la cantidad del producto {nombre} ha sido actualizada a {cantidad}\")\n",
    "\n",
    "            else:\n",
    "                print (\"el producto que intentas actualizar no se encuentra en el inventario. debes agregarlo primero\")\n",
    "\n",
    "    def eliminar_producto(self, nombre): #metodo 5: Elimina un producto del inventario por nombre.\n",
    "        for producto in self.inventario:\n",
    "            if producto[\"nombre\"] in nombre:\n",
    "                self.inventario.remove(producto)\n",
    "                print (f\"el producto {nombre} se ha eliminado correctamente\")\n",
    "            \n",
    "            else:\n",
    "                if producto[\"nombre\"] not in self.inventario:\n",
    "                 print (\"el producto que buscas no está en el inventario\")\n",
    "\n",
    "    def calcular_valor_inventario(self): #metodo 6: Calcula y muestra el valor total del inventario.\n",
    "         ventas_totales = 0\n",
    "         for producto in self.inventario:\n",
    "            valor_producto = producto [\"precio\"] * producto [\"cantidad\"]\n",
    "            ventas_totales += valor_producto\n",
    "            print(f\"El valor total del inventario es: ${ventas_totales}\")\n",
    "                     "
   ]
  },
  {
   "cell_type": "code",
   "execution_count": 208,
   "metadata": {},
   "outputs": [],
   "source": [
    "mi_tienda = TiendaOnline3()"
   ]
  },
  {
   "cell_type": "code",
   "execution_count": 209,
   "metadata": {},
   "outputs": [
    {
     "name": "stdout",
     "output_type": "stream",
     "text": [
      "se ha agregado el siguiente prducto: {'nombre': 'tomate', 'precio': 3, 'cantidad': 8}\n"
     ]
    }
   ],
   "source": [
    "mi_tienda.agregar_producto(\"tomate\", 3, 8)"
   ]
  },
  {
   "cell_type": "code",
   "execution_count": 210,
   "metadata": {},
   "outputs": [
    {
     "data": {
      "text/plain": [
       "{'inventario': [{'nombre': 'tomate', 'precio': 3, 'cantidad': 8}]}"
      ]
     },
     "execution_count": 210,
     "metadata": {},
     "output_type": "execute_result"
    }
   ],
   "source": [
    "mi_tienda.__dict__"
   ]
  },
  {
   "cell_type": "code",
   "execution_count": 211,
   "metadata": {},
   "outputs": [
    {
     "data": {
      "text/plain": [
       "('la cantidad de tomate ha sido actualizada a 10',\n",
       " ('zanahoria', 2, 16),\n",
       " ('pepino', 4, 10))"
      ]
     },
     "execution_count": 211,
     "metadata": {},
     "output_type": "execute_result"
    }
   ],
   "source": [
    "mi_tienda.agregar_producto(\"tomate\", 3, 10), (\"zanahoria\", 2, 16), (\"pepino\", 4, 10)"
   ]
  },
  {
   "cell_type": "code",
   "execution_count": 212,
   "metadata": {},
   "outputs": [
    {
     "name": "stdout",
     "output_type": "stream",
     "text": [
      "Nombre: tomate, Precio: $3, Cantidad: 18\n"
     ]
    }
   ],
   "source": [
    "mi_tienda.ver_inventario()"
   ]
  },
  {
   "cell_type": "code",
   "execution_count": 213,
   "metadata": {},
   "outputs": [
    {
     "name": "stdout",
     "output_type": "stream",
     "text": [
      "el producto que intentas actualizar no se encuentra en el inventario. debes agregarlo primero\n"
     ]
    }
   ],
   "source": [
    "mi_tienda.actualizar_stock(\"zapato\", 9)"
   ]
  },
  {
   "cell_type": "code",
   "execution_count": 214,
   "metadata": {},
   "outputs": [
    {
     "name": "stdout",
     "output_type": "stream",
     "text": [
      "el producto que buscas no está en el inventario\n"
     ]
    }
   ],
   "source": [
    "mi_tienda.eliminar_producto(\"zapato\")"
   ]
  },
  {
   "cell_type": "code",
   "execution_count": 215,
   "metadata": {},
   "outputs": [
    {
     "name": "stdout",
     "output_type": "stream",
     "text": [
      "producto no encontrado\n"
     ]
    }
   ],
   "source": [
    "mi_tienda.buscar_productos(\"pepino\")"
   ]
  },
  {
   "cell_type": "code",
   "execution_count": 216,
   "metadata": {},
   "outputs": [
    {
     "name": "stdout",
     "output_type": "stream",
     "text": [
      "El valor total del inventario es: $54\n"
     ]
    }
   ],
   "source": [
    "mi_tienda.calcular_valor_inventario()"
   ]
  },
  {
   "cell_type": "code",
   "execution_count": 217,
   "metadata": {},
   "outputs": [
    {
     "name": "stdout",
     "output_type": "stream",
     "text": [
      "Nombre: tomate, Precio: $3, Cantidad: 18\n"
     ]
    }
   ],
   "source": [
    "mi_tienda.ver_inventario()"
   ]
  },
  {
   "cell_type": "code",
   "execution_count": 218,
   "metadata": {},
   "outputs": [
    {
     "name": "stdout",
     "output_type": "stream",
     "text": [
      "El producto que buscas es: Nombre: tomate, Precio: $3, Cantidad: 18\n"
     ]
    }
   ],
   "source": [
    "mi_tienda.buscar_productos(\"tomate\")"
   ]
  },
  {
   "cell_type": "code",
   "execution_count": 219,
   "metadata": {},
   "outputs": [
    {
     "name": "stdout",
     "output_type": "stream",
     "text": [
      "Nombre: tomate, Precio: $3, Cantidad: 18\n"
     ]
    }
   ],
   "source": [
    "mi_tienda.ver_inventario()"
   ]
  }
 ],
 "metadata": {
  "kernelspec": {
   "display_name": "Python 3",
   "language": "python",
   "name": "python3"
  },
  "language_info": {
   "codemirror_mode": {
    "name": "ipython",
    "version": 3
   },
   "file_extension": ".py",
   "mimetype": "text/x-python",
   "name": "python",
   "nbconvert_exporter": "python",
   "pygments_lexer": "ipython3",
   "version": "3.9.6"
  }
 },
 "nbformat": 4,
 "nbformat_minor": 2
}
