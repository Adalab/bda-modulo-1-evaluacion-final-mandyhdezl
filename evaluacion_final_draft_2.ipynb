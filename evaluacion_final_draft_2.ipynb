{
 "cells": [
  {
   "cell_type": "code",
   "execution_count": null,
   "metadata": {},
   "outputs": [],
   "source": [
    "class TiendaOnline3: # creación de una clase llamada TiendaOnline\n",
    "    \n",
    "    def __init__(self):\n",
    "        self.inventario = []  # Lista vacía para almacenar productos\n",
    "        self.ventas_totales = float(0)  # Atributo para llevar un registro de las ventas totales\n",
    "\n",
    "    def agregar_producto(self, nombre, precio, cantidad): # Método 1: Buscar si el producto ya existe en el inventario\n",
    "        for producto in self.inventario:\n",
    "            if producto[\"nombre\"] == nombre: #Se hace comparación exacta\n",
    "                producto[\"cantidad\"] += cantidad  # Si existe, actualiza la cantidad\n",
    "                print (f\"la cantidad de {nombre} ha sido actualizada a {cantidad}\")\n",
    "        \n",
    "        nuevo_producto = {\"nombre\": nombre, \"precio\": precio, \"cantidad\": cantidad} # Si no existe, agregarlo como un nuevo producto\n",
    "        self.inventario.append(nuevo_producto)\n",
    "        print (f\"se ha agregado el siguiente prducto: {nuevo_producto}\")\n",
    "\n",
    "    def ver_inventario(self): #Método 2: Mostrar inventario \n",
    "        for producto in self.inventario: \n",
    "            print (f\"Nombre: {producto['nombre']}, Precio: ${producto['precio']}, Cantidad: {producto['cantidad']}\")\n",
    "            if not self.inventario:\n",
    "              print (\"el inventario está vacío\")\n",
    "\n",
    "    def buscar_productos(self, nombre): #Método 3: Buscar producto\n",
    "        for producto in self.inventario:\n",
    "            if producto [\"nombre\"] == nombre:\n",
    "              print (f\"El producto que buscas es: Nombre: {producto['nombre']}, Precio: ${producto['precio']}, Cantidad: {producto['cantidad']}\")\n",
    "            else:\n",
    "                print (\"producto no encontrado\")\n",
    "            \n",
    "    def actualizar_stock(self, nombre, cantidad): #Método 4: Actualiza stock por nombre y cantidad.\n",
    "        for producto in self.inventario:\n",
    "            if producto[\"nombre\"] == nombre:\n",
    "                producto[\"cantidad\"] += cantidad\n",
    "                print (f\"la cantidad del producto {nombre} ha sido actualizada a {cantidad}\")\n",
    "\n",
    "            else:\n",
    "                print (\"el producto que intentas actualizar no se encuentra en el inventario. debes agregarlo primero\")\n",
    "                break\n",
    "\n",
    "    def eliminar_producto(self, nombre): #Método 5: Elimina un producto del inventario por nombre.\n",
    "        for producto in self.inventario:\n",
    "            if producto[\"nombre\"] == nombre:\n",
    "                self.inventario.remove(producto)\n",
    "                print (f\"el producto {nombre} se ha eliminado correctamente\")\n",
    "            \n",
    "            else:\n",
    "                if producto[\"nombre\"] not in self.inventario:\n",
    "                 print (\"el producto que buscas no está en el inventario\")\n",
    "                 break\n",
    "\n",
    "    def calcular_valor_inventario(self): #Método 6: Calcula y muestra el valor total del inventario.\n",
    "         for producto in self.inventario:\n",
    "            valor_producto = producto [\"precio\"] * producto [\"cantidad\"]\n",
    "            self.ventas_totales += valor_producto\n",
    "            print (f\"El valor total del inventario es: ${self.ventas_totales}\")\n",
    "                     "
   ]
  },
  {
   "cell_type": "code",
   "execution_count": 33,
   "metadata": {},
   "outputs": [],
   "source": [
    "mi_tienda = TiendaOnline3()"
   ]
  },
  {
   "cell_type": "code",
   "execution_count": 34,
   "metadata": {},
   "outputs": [
    {
     "name": "stdout",
     "output_type": "stream",
     "text": [
      "se ha agregado el siguiente prducto: {'nombre': 'tomate', 'precio': 3, 'cantidad': 8}\n"
     ]
    }
   ],
   "source": [
    "mi_tienda.agregar_producto(\"tomate\", 3, 8)"
   ]
  },
  {
   "cell_type": "code",
   "execution_count": 35,
   "metadata": {},
   "outputs": [
    {
     "data": {
      "text/plain": [
       "{'inventario': [{'nombre': 'tomate', 'precio': 3, 'cantidad': 8}],\n",
       " 'ventas_totales': 0.0}"
      ]
     },
     "execution_count": 35,
     "metadata": {},
     "output_type": "execute_result"
    }
   ],
   "source": [
    "mi_tienda.__dict__"
   ]
  },
  {
   "cell_type": "code",
   "execution_count": 36,
   "metadata": {},
   "outputs": [
    {
     "name": "stdout",
     "output_type": "stream",
     "text": [
      "la cantidad de tomate ha sido actualizada a 10\n",
      "se ha agregado el siguiente prducto: {'nombre': 'tomate', 'precio': 3, 'cantidad': 10}\n",
      "se ha agregado el siguiente prducto: {'nombre': 'zanahoria', 'precio': 2, 'cantidad': 16}\n",
      "se ha agregado el siguiente prducto: {'nombre': 'pepino', 'precio': 4, 'cantidad': 10}\n",
      "se ha agregado el siguiente prducto: {'nombre': 'chocolate', 'precio': 1.23, 'cantidad': 8}\n",
      "se ha agregado el siguiente prducto: {'nombre': 'soda', 'precio': 2.56, 'cantidad': 4}\n"
     ]
    }
   ],
   "source": [
    "mi_tienda.agregar_producto(\"tomate\", 3, 10)\n",
    "mi_tienda.agregar_producto(\"zanahoria\", 2, 16)\n",
    "mi_tienda.agregar_producto(\"pepino\", 4, 10)\n",
    "mi_tienda.agregar_producto(\"chocolate\", 1.23, 8) \n",
    "mi_tienda.agregar_producto(\"soda\", 2.56, 4)"
   ]
  },
  {
   "cell_type": "code",
   "execution_count": 37,
   "metadata": {},
   "outputs": [
    {
     "name": "stdout",
     "output_type": "stream",
     "text": [
      "Nombre: tomate, Precio: $3, Cantidad: 18\n",
      "Nombre: tomate, Precio: $3, Cantidad: 10\n",
      "Nombre: zanahoria, Precio: $2, Cantidad: 16\n",
      "Nombre: pepino, Precio: $4, Cantidad: 10\n",
      "Nombre: chocolate, Precio: $1.23, Cantidad: 8\n",
      "Nombre: soda, Precio: $2.56, Cantidad: 4\n"
     ]
    }
   ],
   "source": [
    "mi_tienda.ver_inventario()"
   ]
  },
  {
   "cell_type": "code",
   "execution_count": 38,
   "metadata": {},
   "outputs": [
    {
     "name": "stdout",
     "output_type": "stream",
     "text": [
      "el producto que intentas actualizar no se encuentra en el inventario. debes agregarlo primero\n",
      "el producto que intentas actualizar no se encuentra en el inventario. debes agregarlo primero\n",
      "el producto que intentas actualizar no se encuentra en el inventario. debes agregarlo primero\n",
      "el producto que intentas actualizar no se encuentra en el inventario. debes agregarlo primero\n",
      "el producto que intentas actualizar no se encuentra en el inventario. debes agregarlo primero\n",
      "el producto que intentas actualizar no se encuentra en el inventario. debes agregarlo primero\n"
     ]
    }
   ],
   "source": [
    "mi_tienda.actualizar_stock(\"zapato\", 9)"
   ]
  },
  {
   "cell_type": "code",
   "execution_count": 39,
   "metadata": {},
   "outputs": [
    {
     "name": "stdout",
     "output_type": "stream",
     "text": [
      "el producto que buscas no está en el inventario\n",
      "el producto que buscas no está en el inventario\n",
      "el producto que buscas no está en el inventario\n",
      "el producto que buscas no está en el inventario\n",
      "el producto que buscas no está en el inventario\n",
      "el producto que buscas no está en el inventario\n"
     ]
    }
   ],
   "source": [
    "mi_tienda.eliminar_producto(\"zapato\")"
   ]
  },
  {
   "cell_type": "code",
   "execution_count": 40,
   "metadata": {},
   "outputs": [
    {
     "name": "stdout",
     "output_type": "stream",
     "text": [
      "producto no encontrado\n",
      "producto no encontrado\n",
      "producto no encontrado\n",
      "El producto que buscas es: Nombre: pepino, Precio: $4, Cantidad: 10\n",
      "producto no encontrado\n",
      "producto no encontrado\n"
     ]
    }
   ],
   "source": [
    "mi_tienda.buscar_productos(\"pepino\")"
   ]
  },
  {
   "cell_type": "code",
   "execution_count": 41,
   "metadata": {},
   "outputs": [
    {
     "name": "stdout",
     "output_type": "stream",
     "text": [
      "El valor total del inventario es: $54.0\n",
      "El valor total del inventario es: $84.0\n",
      "El valor total del inventario es: $116.0\n",
      "El valor total del inventario es: $156.0\n",
      "El valor total del inventario es: $165.84\n",
      "El valor total del inventario es: $176.08\n"
     ]
    }
   ],
   "source": [
    "mi_tienda.calcular_valor_inventario()"
   ]
  },
  {
   "cell_type": "code",
   "execution_count": 42,
   "metadata": {},
   "outputs": [
    {
     "name": "stdout",
     "output_type": "stream",
     "text": [
      "Nombre: tomate, Precio: $3, Cantidad: 18\n",
      "Nombre: tomate, Precio: $3, Cantidad: 10\n",
      "Nombre: zanahoria, Precio: $2, Cantidad: 16\n",
      "Nombre: pepino, Precio: $4, Cantidad: 10\n",
      "Nombre: chocolate, Precio: $1.23, Cantidad: 8\n",
      "Nombre: soda, Precio: $2.56, Cantidad: 4\n"
     ]
    }
   ],
   "source": [
    "mi_tienda.ver_inventario()"
   ]
  },
  {
   "cell_type": "code",
   "execution_count": 43,
   "metadata": {},
   "outputs": [
    {
     "name": "stdout",
     "output_type": "stream",
     "text": [
      "El producto que buscas es: Nombre: tomate, Precio: $3, Cantidad: 18\n",
      "El producto que buscas es: Nombre: tomate, Precio: $3, Cantidad: 10\n",
      "producto no encontrado\n",
      "producto no encontrado\n",
      "producto no encontrado\n",
      "producto no encontrado\n"
     ]
    }
   ],
   "source": [
    "mi_tienda.buscar_productos(\"tomate\")"
   ]
  },
  {
   "cell_type": "code",
   "execution_count": 44,
   "metadata": {},
   "outputs": [
    {
     "name": "stdout",
     "output_type": "stream",
     "text": [
      "Nombre: tomate, Precio: $3, Cantidad: 18\n",
      "Nombre: tomate, Precio: $3, Cantidad: 10\n",
      "Nombre: zanahoria, Precio: $2, Cantidad: 16\n",
      "Nombre: pepino, Precio: $4, Cantidad: 10\n",
      "Nombre: chocolate, Precio: $1.23, Cantidad: 8\n",
      "Nombre: soda, Precio: $2.56, Cantidad: 4\n"
     ]
    }
   ],
   "source": [
    "mi_tienda.ver_inventario()"
   ]
  }
 ],
 "metadata": {
  "kernelspec": {
   "display_name": "Python 3",
   "language": "python",
   "name": "python3"
  },
  "language_info": {
   "codemirror_mode": {
    "name": "ipython",
    "version": 3
   },
   "file_extension": ".py",
   "mimetype": "text/x-python",
   "name": "python",
   "nbconvert_exporter": "python",
   "pygments_lexer": "ipython3",
   "version": "3.9.6"
  }
 },
 "nbformat": 4,
 "nbformat_minor": 2
}
